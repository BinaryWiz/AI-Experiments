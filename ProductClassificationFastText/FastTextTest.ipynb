{
 "cells": [
  {
   "cell_type": "code",
   "execution_count": 40,
   "metadata": {},
   "outputs": [],
   "source": [
    "import fasttext\n",
    "import pandas as pd"
   ]
  },
  {
   "cell_type": "code",
   "execution_count": 4,
   "metadata": {},
   "outputs": [
    {
     "name": "stderr",
     "output_type": "stream",
     "text": [
      "Warning : `load_model` does not return WordVectorModel or SupervisedModel any more, but a `FastText` object which is very similar.\n"
     ]
    }
   ],
   "source": [
    "model = fasttext.load_model('models/crawl-300d-2M-subword.bin')"
   ]
  },
  {
   "cell_type": "code",
   "execution_count": 39,
   "metadata": {},
   "outputs": [
    {
     "data": {
      "text/plain": [
       "[(0.8886364102363586, 'i5'),\n",
       " (0.7744020223617554, 'i7-2600'),\n",
       " (0.7599759697914124, 'I7'),\n",
       " (0.7581802010536194, 'i7-2600k'),\n",
       " (0.7488381862640381, 'i5-2500k'),\n",
       " (0.7483259439468384, 'i7-3770k'),\n",
       " (0.7482477426528931, 'i7-950'),\n",
       " (0.7459214329719543, 'i7-3770'),\n",
       " (0.7458125352859497, 'i5-2500'),\n",
       " (0.7451770901679993, 'i7-4770')]"
      ]
     },
     "execution_count": 39,
     "metadata": {},
     "output_type": "execute_result"
    }
   ],
   "source": [
    "model.get_nearest_neighbors('i7')"
   ]
  },
  {
   "cell_type": "code",
   "execution_count": 45,
   "metadata": {},
   "outputs": [],
   "source": [
    "df = pd.read_json('data/computers_gs.json.gz', compression='gzip', lines=True)"
   ]
  },
  {
   "cell_type": "code",
   "execution_count": 46,
   "metadata": {},
   "outputs": [
    {
     "name": "stdout",
     "output_type": "stream",
     "text": [
      "       id_left              category_left  cluster_id_left  \\\n",
      "0       581109  Computers_and_Accessories          1324529   \n",
      "1      3083228  Computers_and_Accessories           640007   \n",
      "2      5942105  Computers_and_Accessories          1464841   \n",
      "3      1282014  Computers_and_Accessories           173820   \n",
      "4      7969280  Computers_and_Accessories           224463   \n",
      "...        ...                        ...              ...   \n",
      "1095  10596400  Computers_and_Accessories         12508878   \n",
      "1096  10186131  Computers_and_Accessories            38064   \n",
      "1097   2803663                Video_Games           824793   \n",
      "1098   8856662  Computers_and_Accessories           250672   \n",
      "1099  11774848  Computers_and_Accessories           224463   \n",
      "\n",
      "                                       identifiers_left  id_right  \\\n",
      "0     [{'/mpn': '[gvrx480g1gaming4gd]'}, {'/gtin13':...  16637861   \n",
      "1     [{'/mpn': '[9hlf4lbdbe]'}, {'/gtin13': '[47187...   3424944   \n",
      "2                              [{'/sku': '[mgeq2ypa]'}]    770253   \n",
      "3                             [{'/mpn': '[tlsf1008d]'}]  16999524   \n",
      "4     [{'/sku': '[dt100g332gb]'}, {'/gtin13': '[7406...   6000979   \n",
      "...                                                 ...       ...   \n",
      "1095                          [{'/mpn': '[340769001]'}]  15781433   \n",
      "1096  [{'/productID': '[asu1070t]'}, {'/mpn': '[turb...  14419422   \n",
      "1097  [{'/mpn': '[90yv09x0m0na00]'}, {'/gtin13': '[4...  15959011   \n",
      "1098  [{'/gtin8': '[53121706]'}, {'/mpn': '[77496554...  16732972   \n",
      "1099                        [{'/sku': '[dt100g332gb]'}]    713690   \n",
      "\n",
      "                 category_right  cluster_id_right  \\\n",
      "0     Computers_and_Accessories            107415   \n",
      "1     Computers_and_Accessories            640007   \n",
      "2     Computers_and_Accessories             83732   \n",
      "3             Other_Electronics          14668779   \n",
      "4     Computers_and_Accessories           1438223   \n",
      "...                         ...               ...   \n",
      "1095  Computers_and_Accessories          12508878   \n",
      "1096  Computers_and_Accessories             38064   \n",
      "1097                Video_Games            824793   \n",
      "1098  Computers_and_Accessories            211568   \n",
      "1099  Computers_and_Accessories            455771   \n",
      "\n",
      "                                      identifiers_right  label  \\\n",
      "0     [{'/mpn': '[gvrx550gamingoc2gd]'}, {'/gtin13':...      0   \n",
      "1     [{'/mpn': '[9hlf4lbdbe]'}, {'/gtin13': '[47187...      1   \n",
      "2                              [{'/sku': '[mgen2ypa]'}]      0   \n",
      "3     [{'/gtin8': '[39121011]'}, {'/mpn': '[eco750up...      0   \n",
      "4                    [{'/productID': '[dt100g3128gb]'}]      0   \n",
      "...                                                 ...    ...   \n",
      "1095                          [{'/mpn': '[340769001]'}]      1   \n",
      "1096                     [{'/mpn': '[turbogtx10708g]'}]      1   \n",
      "1097  [{'/productID': '[asu1060do]'}, {'/mpn': '[dua...      1   \n",
      "1098  [{'/gtin8': '[43201503]'}, {'/mpn': '[bx80662i...      0   \n",
      "1099                         [{'/sku': '[dtse9h32gb]'}]      0   \n",
      "\n",
      "                pair_id  ...  \\\n",
      "0       581109#16637861  ...   \n",
      "1       3083228#3424944  ...   \n",
      "2        5942105#770253  ...   \n",
      "3      1282014#16999524  ...   \n",
      "4       7969280#6000979  ...   \n",
      "...                 ...  ...   \n",
      "1095  10596400#15781433  ...   \n",
      "1096  10186131#14419422  ...   \n",
      "1097   2803663#15959011  ...   \n",
      "1098   8856662#16732972  ...   \n",
      "1099    11774848#713690  ...   \n",
      "\n",
      "                                       description_left  \\\n",
      "0     \"GV-RX480G1 GAMING-4GD, Core Clock: 1202MHz, B...   \n",
      "1     \"\\n                More>>>\\n                \\n...   \n",
      "2     \"Apple Mac mini - DTS - 1 x Core i5 2.8 GHz - ...   \n",
      "3     \"8 port Switch for adding more ports to your r...   \n",
      "4     \"A drive USB flash Kingston DataTraveler® 100 ...   \n",
      "...                                                 ...   \n",
      "1095  \"\\n                More>>>\\n                \\n...   \n",
      "1096  \"1506MHz Core, 1683MHz Boost, 8008MHz 256-bit ...   \n",
      "1097  \"DUAL-GTX1060-O6G, Core Clock: 1607MHz, Boost ...   \n",
      "1098  \"Intuitive closure uses a responsive flex zone...   \n",
      "1099  \"Kingston DataTraveler 100 G3 - Unidad flash U...   \n",
      "\n",
      "                                      description_right keyValuePairs_left  \\\n",
      "0     \"GV-RX550GAMING OC-2GD, Boost: 1219MHz, Memory...               None   \n",
      "1     \"\\n\\n                                Every det...               None   \n",
      "2                                            \"Null\"@es                None   \n",
      "3     \"This product is ENERGY STAR qualified for its...               None   \n",
      "4                                                  None               None   \n",
      "...                                                 ...                ...   \n",
      "1095   \"Description:StorageWorks 20/40GB Internal DL...               None   \n",
      "1096  \"ASUS GeForce GTX 1070 ASUS Turbo 8GB GDDR5 VR...               None   \n",
      "1097  \"1594MHz Core, 1809MHz Boost, 8008MHz 192-bit ...               None   \n",
      "1098  \"The Intel Core i3 processor is the perfect en...               None   \n",
      "1099  \"Kingston DataTraveler SE9 - Unidad flash USB ...               None   \n",
      "\n",
      "                                    keyValuePairs_right    price_left  \\\n",
      "0                                                  None          None   \n",
      "1                                                  None          None   \n",
      "2                                                  None          None   \n",
      "3                                                  None          None   \n",
      "4                                                  None          None   \n",
      "...                                                 ...           ...   \n",
      "1095  {'Category': 'StorageWorks', 'Sub-Category': '...          None   \n",
      "1096                                               None          None   \n",
      "1097                                               None          None   \n",
      "1098                                               None  \"$\", \"31.99\"   \n",
      "1099                                               None          None   \n",
      "\n",
      "               price_right specTableContent_left  \\\n",
      "0                     None                  None   \n",
      "1                     None                  None   \n",
      "2                     None                  None   \n",
      "3             \"$\", \"95.99\"                  None   \n",
      "4                     None                  None   \n",
      "...                    ...                   ...   \n",
      "1095  \"CAD\", \"$173.88 CAD\"                  None   \n",
      "1096                  None                  None   \n",
      "1097                  None                  None   \n",
      "1098         \"$\", \"165.99\"                  None   \n",
      "1099                  None                  None   \n",
      "\n",
      "                                 specTableContent_right  \\\n",
      "0                                                  None   \n",
      "1                                                  None   \n",
      "2                                                  None   \n",
      "3                                                  None   \n",
      "4                                                  None   \n",
      "...                                                 ...   \n",
      "1095   Specifications: Category StorageWorks Sub-Cat...   \n",
      "1096                                               None   \n",
      "1097                                               None   \n",
      "1098                                               None   \n",
      "1099                                               None   \n",
      "\n",
      "                                             title_left  \\\n",
      "0      \"Gigabyte Radeon RX 480 G1 Gaming 4096MB GDDR...   \n",
      "1      \"Benq ZOWIE RL2455 24\" Full HD TN Grey comput...   \n",
      "2      \"Apple Mac mini 2.8GHz Intel Core i5\"@es \"Mac...   \n",
      "3      \"TP-LINK 8-Port Fast Ethernet Desktop Switch ...   \n",
      "4      \"Pen Kingston DataTraveler 100 G3 32GB USB3.0...   \n",
      "...                                                 ...   \n",
      "1095   \"Hewlett Packard Enterprise SP/CQ Drive DLT 2...   \n",
      "1096   \"ASUS GeForce GTX 1070 TURBO 8GB GDDR5 Graphi...   \n",
      "1097   \"Asus GeForce GTX 1060 Dual OC 6144MB GDDR5 P...   \n",
      "1098   \"Speck FlapTop notebook sleeve\" \" Speck sleev...   \n",
      "1099   \"Kingston Technology DataTraveler 100 Generat...   \n",
      "\n",
      "                                            title_right  \n",
      "0      \"Gigabyte Radeon RX 550 Gaming OC 2048MB GDDR...  \n",
      "1      \"Zowie RL2455 E-Sports 24\" Full HD LED Monito...  \n",
      "2      \"Mac Mini Qc I5 2.6ghz/8gb/1tb/iris Graphics\"...  \n",
      "3      \"Tripp Lite 750VA 450W UPS Eco Green Battery ...  \n",
      "4      \"Kingston DataTraveler 100 G3 128GB USB3.0\"@e...  \n",
      "...                                                 ...  \n",
      "1095   \"340769-001 HP StorageWorks Internal DLT SCSI...  \n",
      "1096   \"ASUS NVIDIA GeForce GTX 1070 Turbo 8GB Graph...  \n",
      "1097   \"ASUS GeForce GTX 1060 DUAL OC 6GB GDDR5 Grap...  \n",
      "1098   \"Intel Core i3 6300 / 3.8 GHz processor\" \" In...  \n",
      "1099   \"Kingston Technology DataTraveler SE9 32GB US...  \n",
      "\n",
      "[1100 rows x 22 columns]\n"
     ]
    }
   ],
   "source": [
    "print(df)"
   ]
  },
  {
   "cell_type": "code",
   "execution_count": null,
   "metadata": {},
   "outputs": [],
   "source": []
  }
 ],
 "metadata": {
  "kernelspec": {
   "display_name": "Python 3",
   "language": "python",
   "name": "python3"
  },
  "language_info": {
   "codemirror_mode": {
    "name": "ipython",
    "version": 3
   },
   "file_extension": ".py",
   "mimetype": "text/x-python",
   "name": "python",
   "nbconvert_exporter": "python",
   "pygments_lexer": "ipython3",
   "version": "3.7.7"
  }
 },
 "nbformat": 4,
 "nbformat_minor": 4
}
