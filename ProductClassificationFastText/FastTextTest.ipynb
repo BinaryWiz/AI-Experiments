{
 "cells": [
  {
   "cell_type": "code",
   "execution_count": 47,
   "metadata": {},
   "outputs": [
    {
     "name": "stderr",
     "output_type": "stream",
     "text": [
      "[nltk_data] Downloading package stopwords to\n",
      "[nltk_data]     C:\\Users\\Jason\\AppData\\Roaming\\nltk_data...\n",
      "[nltk_data]   Unzipping corpora\\stopwords.zip.\n"
     ]
    },
    {
     "data": {
      "text/plain": [
       "True"
      ]
     },
     "execution_count": 47,
     "metadata": {},
     "output_type": "execute_result"
    }
   ],
   "source": [
    "import fasttext\n",
    "import pandas as pd\n",
    "import nltk\n",
    "from nltk.corpus import stopwords\n",
    "nltk.download('stopwords')"
   ]
  },
  {
   "cell_type": "code",
   "execution_count": 3,
   "metadata": {},
   "outputs": [
    {
     "name": "stderr",
     "output_type": "stream",
     "text": [
      "Warning : `load_model` does not return WordVectorModel or SupervisedModel any more, but a `FastText` object which is very similar.\n"
     ]
    }
   ],
   "source": [
    "# Get the fasttext model (we are using the largest one they offer [600B tokens])\n",
    "fasttext_model = fasttext.load_model('models/crawl-300d-2M-subword.bin')"
   ]
  },
  {
   "cell_type": "code",
   "execution_count": 33,
   "metadata": {},
   "outputs": [],
   "source": [
    "# Get the dataset of computer parts\n",
    "computers_df = pd.read_json('data/computers_train/computers_train_xlarge_normalized.json.gz',compression='gzip', lines=True)"
   ]
  },
  {
   "cell_type": "code",
   "execution_count": 34,
   "metadata": {},
   "outputs": [
    {
     "data": {
      "text/plain": [
       "68461"
      ]
     },
     "execution_count": 34,
     "metadata": {},
     "output_type": "execute_result"
    }
   ],
   "source": [
    "# The size of our training set\n",
    "len(computers_df)"
   ]
  },
  {
   "cell_type": "code",
   "execution_count": 38,
   "metadata": {},
   "outputs": [
    {
     "data": {
      "text/html": [
       "<div>\n",
       "<style scoped>\n",
       "    .dataframe tbody tr th:only-of-type {\n",
       "        vertical-align: middle;\n",
       "    }\n",
       "\n",
       "    .dataframe tbody tr th {\n",
       "        vertical-align: top;\n",
       "    }\n",
       "\n",
       "    .dataframe thead th {\n",
       "        text-align: right;\n",
       "    }\n",
       "</style>\n",
       "<table border=\"1\" class=\"dataframe\">\n",
       "  <thead>\n",
       "    <tr style=\"text-align: right;\">\n",
       "      <th></th>\n",
       "      <th>id_left</th>\n",
       "      <th>title_left</th>\n",
       "      <th>description_left</th>\n",
       "      <th>brand_left</th>\n",
       "      <th>price_left</th>\n",
       "      <th>specTableContent_left</th>\n",
       "      <th>keyValuePairs_left</th>\n",
       "      <th>category_left</th>\n",
       "      <th>cluster_id_left</th>\n",
       "      <th>identifiers_left</th>\n",
       "      <th>...</th>\n",
       "      <th>description_right</th>\n",
       "      <th>brand_right</th>\n",
       "      <th>price_right</th>\n",
       "      <th>specTableContent_right</th>\n",
       "      <th>keyValuePairs_right</th>\n",
       "      <th>category_right</th>\n",
       "      <th>cluster_id_right</th>\n",
       "      <th>identifiers_right</th>\n",
       "      <th>label</th>\n",
       "      <th>pair_id</th>\n",
       "    </tr>\n",
       "  </thead>\n",
       "  <tbody>\n",
       "    <tr>\n",
       "      <th>0</th>\n",
       "      <td>5490217</td>\n",
       "      <td>hp intel xeon x5560 prijzen tweakers</td>\n",
       "      <td>None</td>\n",
       "      <td>None</td>\n",
       "      <td>None</td>\n",
       "      <td>categorie processors merk hp product hp intel ...</td>\n",
       "      <td>{'categorie': 'processors', 'merk': 'hp', 'pro...</td>\n",
       "      <td>Computers_and_Accessories</td>\n",
       "      <td>1679624</td>\n",
       "      <td>[{'/mpn': '[495906b21]'}, {'/gtin13': '[884420...</td>\n",
       "      <td>...</td>\n",
       "      <td>description intel xeon x5560 ml350 g6 2 80ghz ...</td>\n",
       "      <td>hp enterprise</td>\n",
       "      <td>usd 213 85</td>\n",
       "      <td>specifications category proliant processor sub...</td>\n",
       "      <td>{'category': 'proliant processor', 'sub catego...</td>\n",
       "      <td>Computers_and_Accessories</td>\n",
       "      <td>1679624</td>\n",
       "      <td>[{'/mpn': '[495906b21]'}]</td>\n",
       "      <td>1</td>\n",
       "      <td>5490217#16248399</td>\n",
       "    </tr>\n",
       "    <tr>\n",
       "      <th>1</th>\n",
       "      <td>16876009</td>\n",
       "      <td>495906 b21 hp x5560 2 80ghz ml350 g6 , null ne...</td>\n",
       "      <td>description intel xeon x5560 ml350 g6 2 80ghz ...</td>\n",
       "      <td>hp enterprise</td>\n",
       "      <td>None</td>\n",
       "      <td>specifications category proliant processor sub...</td>\n",
       "      <td>{'category': 'proliant processor', 'sub catego...</td>\n",
       "      <td>Computers_and_Accessories</td>\n",
       "      <td>1679624</td>\n",
       "      <td>[{'/sku': '[495906b21]'}, {'/mpn': '[495906b21...</td>\n",
       "      <td>...</td>\n",
       "      <td>description intel xeon x5560 ml350 g6 2 80ghz ...</td>\n",
       "      <td>hp enterprise</td>\n",
       "      <td>usd 213 85</td>\n",
       "      <td>specifications category proliant processor sub...</td>\n",
       "      <td>{'category': 'proliant processor', 'sub catego...</td>\n",
       "      <td>Computers_and_Accessories</td>\n",
       "      <td>1679624</td>\n",
       "      <td>[{'/mpn': '[495906b21]'}]</td>\n",
       "      <td>1</td>\n",
       "      <td>16876009#16248399</td>\n",
       "    </tr>\n",
       "    <tr>\n",
       "      <th>2</th>\n",
       "      <td>16543750</td>\n",
       "      <td>asus motherboard lga2066 ddr4 m 2 u atx 2xgbe ...</td>\n",
       "      <td>None</td>\n",
       "      <td>None</td>\n",
       "      <td>None</td>\n",
       "      <td>None</td>\n",
       "      <td>None</td>\n",
       "      <td>Computers_and_Accessories</td>\n",
       "      <td>109916</td>\n",
       "      <td>[{'/sku': '[34181655]'}, {'/mpn': '[primex299d...</td>\n",
       "      <td>...</td>\n",
       "      <td>placa base atx socket lga2066 chipset intel x2...</td>\n",
       "      <td>None</td>\n",
       "      <td>None</td>\n",
       "      <td>None</td>\n",
       "      <td>None</td>\n",
       "      <td>Computers_and_Accessories</td>\n",
       "      <td>109916</td>\n",
       "      <td>[{'/productID': '[90mb0ty0m0eay0]'}]</td>\n",
       "      <td>1</td>\n",
       "      <td>16543750#14031864</td>\n",
       "    </tr>\n",
       "    <tr>\n",
       "      <th>3</th>\n",
       "      <td>16721450</td>\n",
       "      <td>asus prime x299 deluxe prijzen tweakers</td>\n",
       "      <td>None</td>\n",
       "      <td>None</td>\n",
       "      <td>None</td>\n",
       "      <td>categorie moederborden merk asus product asus ...</td>\n",
       "      <td>{'categorie': 'moederborden', 'merk': 'asus', ...</td>\n",
       "      <td>Computers_and_Accessories</td>\n",
       "      <td>109916</td>\n",
       "      <td>[{'/mpn': '[primex299deluxe,  90mb0ty0m0eay0]'...</td>\n",
       "      <td>...</td>\n",
       "      <td>support for x series intel core processors sli...</td>\n",
       "      <td>asus</td>\n",
       "      <td>None</td>\n",
       "      <td>None</td>\n",
       "      <td>None</td>\n",
       "      <td>Computers_and_Accessories</td>\n",
       "      <td>109916</td>\n",
       "      <td>[{'/mpn': '[90mb0ty0m0eay0]'}, {'/gtin13': '[4...</td>\n",
       "      <td>1</td>\n",
       "      <td>16721450#10358026</td>\n",
       "    </tr>\n",
       "    <tr>\n",
       "      <th>4</th>\n",
       "      <td>14031864</td>\n",
       "      <td>asus prime x299 deluxe</td>\n",
       "      <td>placa base atx socket lga2066 chipset intel x2...</td>\n",
       "      <td>None</td>\n",
       "      <td>None</td>\n",
       "      <td>None</td>\n",
       "      <td>None</td>\n",
       "      <td>Computers_and_Accessories</td>\n",
       "      <td>109916</td>\n",
       "      <td>[{'/productID': '[90mb0ty0m0eay0]'}]</td>\n",
       "      <td>...</td>\n",
       "      <td>atx quad channel ddr4 3 x pcie 3 0 x16 2 x m 2...</td>\n",
       "      <td>asus</td>\n",
       "      <td>None</td>\n",
       "      <td>None</td>\n",
       "      <td>None</td>\n",
       "      <td>Computers_and_Accessories</td>\n",
       "      <td>109916</td>\n",
       "      <td>[{'/productID': '[asux29del]'}, {'/mpn': '[pri...</td>\n",
       "      <td>1</td>\n",
       "      <td>14031864#4588573</td>\n",
       "    </tr>\n",
       "  </tbody>\n",
       "</table>\n",
       "<p>5 rows × 22 columns</p>\n",
       "</div>"
      ],
      "text/plain": [
       "    id_left                                         title_left  \\\n",
       "0   5490217               hp intel xeon x5560 prijzen tweakers   \n",
       "1  16876009  495906 b21 hp x5560 2 80ghz ml350 g6 , null ne...   \n",
       "2  16543750  asus motherboard lga2066 ddr4 m 2 u atx 2xgbe ...   \n",
       "3  16721450            asus prime x299 deluxe prijzen tweakers   \n",
       "4  14031864                             asus prime x299 deluxe   \n",
       "\n",
       "                                    description_left     brand_left  \\\n",
       "0                                               None           None   \n",
       "1  description intel xeon x5560 ml350 g6 2 80ghz ...  hp enterprise   \n",
       "2                                               None           None   \n",
       "3                                               None           None   \n",
       "4  placa base atx socket lga2066 chipset intel x2...           None   \n",
       "\n",
       "  price_left                              specTableContent_left  \\\n",
       "0       None  categorie processors merk hp product hp intel ...   \n",
       "1       None  specifications category proliant processor sub...   \n",
       "2       None                                               None   \n",
       "3       None  categorie moederborden merk asus product asus ...   \n",
       "4       None                                               None   \n",
       "\n",
       "                                  keyValuePairs_left  \\\n",
       "0  {'categorie': 'processors', 'merk': 'hp', 'pro...   \n",
       "1  {'category': 'proliant processor', 'sub catego...   \n",
       "2                                               None   \n",
       "3  {'categorie': 'moederborden', 'merk': 'asus', ...   \n",
       "4                                               None   \n",
       "\n",
       "               category_left  cluster_id_left  \\\n",
       "0  Computers_and_Accessories          1679624   \n",
       "1  Computers_and_Accessories          1679624   \n",
       "2  Computers_and_Accessories           109916   \n",
       "3  Computers_and_Accessories           109916   \n",
       "4  Computers_and_Accessories           109916   \n",
       "\n",
       "                                    identifiers_left  ...  \\\n",
       "0  [{'/mpn': '[495906b21]'}, {'/gtin13': '[884420...  ...   \n",
       "1  [{'/sku': '[495906b21]'}, {'/mpn': '[495906b21...  ...   \n",
       "2  [{'/sku': '[34181655]'}, {'/mpn': '[primex299d...  ...   \n",
       "3  [{'/mpn': '[primex299deluxe,  90mb0ty0m0eay0]'...  ...   \n",
       "4               [{'/productID': '[90mb0ty0m0eay0]'}]  ...   \n",
       "\n",
       "                                   description_right    brand_right  \\\n",
       "0  description intel xeon x5560 ml350 g6 2 80ghz ...  hp enterprise   \n",
       "1  description intel xeon x5560 ml350 g6 2 80ghz ...  hp enterprise   \n",
       "2  placa base atx socket lga2066 chipset intel x2...           None   \n",
       "3  support for x series intel core processors sli...           asus   \n",
       "4  atx quad channel ddr4 3 x pcie 3 0 x16 2 x m 2...           asus   \n",
       "\n",
       "  price_right                             specTableContent_right  \\\n",
       "0  usd 213 85  specifications category proliant processor sub...   \n",
       "1  usd 213 85  specifications category proliant processor sub...   \n",
       "2        None                                               None   \n",
       "3        None                                               None   \n",
       "4        None                                               None   \n",
       "\n",
       "                                 keyValuePairs_right  \\\n",
       "0  {'category': 'proliant processor', 'sub catego...   \n",
       "1  {'category': 'proliant processor', 'sub catego...   \n",
       "2                                               None   \n",
       "3                                               None   \n",
       "4                                               None   \n",
       "\n",
       "              category_right cluster_id_right  \\\n",
       "0  Computers_and_Accessories          1679624   \n",
       "1  Computers_and_Accessories          1679624   \n",
       "2  Computers_and_Accessories           109916   \n",
       "3  Computers_and_Accessories           109916   \n",
       "4  Computers_and_Accessories           109916   \n",
       "\n",
       "                                   identifiers_right  label            pair_id  \n",
       "0                          [{'/mpn': '[495906b21]'}]      1   5490217#16248399  \n",
       "1                          [{'/mpn': '[495906b21]'}]      1  16876009#16248399  \n",
       "2               [{'/productID': '[90mb0ty0m0eay0]'}]      1  16543750#14031864  \n",
       "3  [{'/mpn': '[90mb0ty0m0eay0]'}, {'/gtin13': '[4...      1  16721450#10358026  \n",
       "4  [{'/productID': '[asux29del]'}, {'/mpn': '[pri...      1   14031864#4588573  \n",
       "\n",
       "[5 rows x 22 columns]"
      ]
     },
     "execution_count": 38,
     "metadata": {},
     "output_type": "execute_result"
    }
   ],
   "source": [
    "# Just see that data that we are working with\n",
    "computers_df.head()"
   ]
  },
  {
   "cell_type": "code",
   "execution_count": 105,
   "metadata": {},
   "outputs": [
    {
     "name": "stdout",
     "output_type": "stream",
     "text": [
      "['i', 'me', 'my', 'myself', 'we', 'our', 'ours', 'ourselves', 'you', \"you're\", \"you've\", \"you'll\", \"you'd\", 'your', 'yours', 'yourself', 'yourselves', 'he', 'him', 'his', 'himself', 'she', \"she's\", 'her', 'hers', 'herself', 'it', \"it's\", 'its', 'itself', 'they', 'them', 'their', 'theirs', 'themselves', 'what', 'which', 'who', 'whom', 'this', 'that', \"that'll\", 'these', 'those', 'am', 'is', 'are', 'was', 'were', 'be', 'been', 'being', 'have', 'has', 'had', 'having', 'do', 'does', 'did', 'doing', 'a', 'an', 'the', 'and', 'but', 'if', 'or', 'because', 'as', 'until', 'while', 'of', 'at', 'by', 'for', 'with', 'about', 'against', 'between', 'into', 'through', 'during', 'before', 'after', 'above', 'below', 'to', 'from', 'up', 'down', 'in', 'out', 'on', 'off', 'over', 'under', 'again', 'further', 'then', 'once', 'here', 'there', 'when', 'where', 'why', 'how', 'all', 'any', 'both', 'each', 'few', 'more', 'most', 'other', 'some', 'such', 'no', 'nor', 'not', 'only', 'own', 'same', 'so', 'than', 'too', 'very', 's', 't', 'can', 'will', 'just', 'don', \"don't\", 'should', \"should've\", 'now', 'd', 'll', 'm', 'o', 're', 've', 'y', 'ain', 'aren', \"aren't\", 'couldn', \"couldn't\", 'didn', \"didn't\", 'doesn', \"doesn't\", 'hadn', \"hadn't\", 'hasn', \"hasn't\", 'haven', \"haven't\", 'isn', \"isn't\", 'ma', 'mightn', \"mightn't\", 'mustn', \"mustn't\", 'needn', \"needn't\", 'shan', \"shan't\", 'shouldn', \"shouldn't\", 'wasn', \"wasn't\", 'weren', \"weren't\", 'won', \"won't\", 'wouldn', \"wouldn't\", '!', '”', '#', '$', '%', '&', '’', '(', ')', '*', '+', ',', '-', '.', '/', ':', ';', '<', '=', '>', '?', '@', '[', '\\\\', ']', '^', '_', '`', '{', '|', '}', '~', ' ', 'null']\n"
     ]
    }
   ],
   "source": [
    "to_stop = stopwords.words('english')\n",
    "punctuation = \"!”#$%&’()*+,-./:;<=>?@[\\]^_`{|}~ \"\n",
    "for c in punctuation:\n",
    "    to_stop.append(c)\n",
    "\n",
    "to_stop.append('null')\n",
    "print(to_stop)"
   ]
  },
  {
   "cell_type": "code",
   "execution_count": 135,
   "metadata": {},
   "outputs": [],
   "source": [
    "# Organizing and normalizing the data\n",
    "\"\"\"\n",
    "Essentially, we want to only have three attributes for each training example: title_one, title_two, label\n",
    "For normalization, we are just going to use the nltk stopwords and punctuation\n",
    "\"\"\"\n",
    "\n",
    "def preprocessing():\n",
    "    column_names = ['title_one', 'title_two', 'label']\n",
    "    norm_computers = pd.DataFrame(columns = column_names)\n",
    "    for row in computers_df.itertuples():\n",
    "        title_left = row.title_left.split(' ')\n",
    "        title_right = row.title_right.split(' ')\n",
    "        \n",
    "        temp_title_left = []\n",
    "        for word in title_left:\n",
    "            append_word = True\n",
    "            for stop in to_stop:\n",
    "                if (word == stop):\n",
    "                    append_word = False\n",
    "            if append_word:\n",
    "                temp_title_left.append(word)\n",
    "                    \n",
    "        \n",
    "        temp_title_right = []\n",
    "        for word in title_right:\n",
    "            append_word = True\n",
    "            for stop in to_stop:\n",
    "                if (word == stop):\n",
    "                    append_word = False\n",
    "            if append_word:\n",
    "                temp_title_right.append(word)\n",
    "\n",
    "        title_left = ' '.join(temp_title_left)\n",
    "        title_right = ' '.join(temp_title_right)\n",
    "        \n",
    "        norm_computers = norm_computers.append(pd.DataFrame([[title_left, title_right, row.label]], columns=column_names))\n",
    "        \n",
    "    return norm_computers\n",
    "        "
   ]
  },
  {
   "cell_type": "code",
   "execution_count": 136,
   "metadata": {},
   "outputs": [],
   "source": [
    "norm_computers = preprocessing()"
   ]
  },
  {
   "cell_type": "code",
   "execution_count": 137,
   "metadata": {},
   "outputs": [
    {
     "data": {
      "text/plain": [
       "68461"
      ]
     },
     "execution_count": 137,
     "metadata": {},
     "output_type": "execute_result"
    }
   ],
   "source": [
    "len(norm_computers)"
   ]
  },
  {
   "cell_type": "code",
   "execution_count": 139,
   "metadata": {},
   "outputs": [
    {
     "data": {
      "text/html": [
       "<div>\n",
       "<style scoped>\n",
       "    .dataframe tbody tr th:only-of-type {\n",
       "        vertical-align: middle;\n",
       "    }\n",
       "\n",
       "    .dataframe tbody tr th {\n",
       "        vertical-align: top;\n",
       "    }\n",
       "\n",
       "    .dataframe thead th {\n",
       "        text-align: right;\n",
       "    }\n",
       "</style>\n",
       "<table border=\"1\" class=\"dataframe\">\n",
       "  <thead>\n",
       "    <tr style=\"text-align: right;\">\n",
       "      <th></th>\n",
       "      <th>title_one</th>\n",
       "      <th>title_two</th>\n",
       "      <th>label</th>\n",
       "    </tr>\n",
       "  </thead>\n",
       "  <tbody>\n",
       "    <tr>\n",
       "      <th>0</th>\n",
       "      <td>seagate barracuda es 2 st3750330ns 750gb 3 5 h...</td>\n",
       "      <td>454141 002 hp 500 gb 7 2k 3 5 sata 10 pack who...</td>\n",
       "      <td>0</td>\n",
       "    </tr>\n",
       "    <tr>\n",
       "      <th>0</th>\n",
       "      <td>seagate barracuda es 2 750gb sata ii 32mb cach...</td>\n",
       "      <td>782995 001 hp 6 tb 6g 7 2k 3 5 sas hdd new who...</td>\n",
       "      <td>0</td>\n",
       "    </tr>\n",
       "    <tr>\n",
       "      <th>0</th>\n",
       "      <td>st3750330ns seagate 750 gb 15k 3 5 3g sata</td>\n",
       "      <td>seagate desktop hdd 1tb sata 6gb</td>\n",
       "      <td>0</td>\n",
       "    </tr>\n",
       "    <tr>\n",
       "      <th>0</th>\n",
       "      <td>st3750330ns seagate 750 gb 15k 3 5 3g sata</td>\n",
       "      <td>454141 002 hp 500 gb 7 2k 3 5 sata 2 pack whol...</td>\n",
       "      <td>0</td>\n",
       "    </tr>\n",
       "    <tr>\n",
       "      <th>0</th>\n",
       "      <td>seagate barracuda es 2 st3750330ns 750gb 3 5 h...</td>\n",
       "      <td>454141 002 hp 500 gb 7 2k 3 5 sata 10 pack who...</td>\n",
       "      <td>0</td>\n",
       "    </tr>\n",
       "  </tbody>\n",
       "</table>\n",
       "</div>"
      ],
      "text/plain": [
       "                                           title_one  \\\n",
       "0  seagate barracuda es 2 st3750330ns 750gb 3 5 h...   \n",
       "0  seagate barracuda es 2 750gb sata ii 32mb cach...   \n",
       "0         st3750330ns seagate 750 gb 15k 3 5 3g sata   \n",
       "0         st3750330ns seagate 750 gb 15k 3 5 3g sata   \n",
       "0  seagate barracuda es 2 st3750330ns 750gb 3 5 h...   \n",
       "\n",
       "                                           title_two label  \n",
       "0  454141 002 hp 500 gb 7 2k 3 5 sata 10 pack who...     0  \n",
       "0  782995 001 hp 6 tb 6g 7 2k 3 5 sas hdd new who...     0  \n",
       "0                   seagate desktop hdd 1tb sata 6gb     0  \n",
       "0  454141 002 hp 500 gb 7 2k 3 5 sata 2 pack whol...     0  \n",
       "0  454141 002 hp 500 gb 7 2k 3 5 sata 10 pack who...     0  "
      ]
     },
     "execution_count": 139,
     "metadata": {},
     "output_type": "execute_result"
    }
   ],
   "source": [
    "norm_computers.tail()"
   ]
  },
  {
   "cell_type": "code",
   "execution_count": 140,
   "metadata": {},
   "outputs": [],
   "source": [
    "norm_computers.to_csv('data/computers_train/computers_train_xlarge_norm_simple.csv', index=False)"
   ]
  },
  {
   "cell_type": "code",
   "execution_count": null,
   "metadata": {},
   "outputs": [],
   "source": []
  }
 ],
 "metadata": {
  "kernelspec": {
   "display_name": "Python 3",
   "language": "python",
   "name": "python3"
  },
  "language_info": {
   "codemirror_mode": {
    "name": "ipython",
    "version": 3
   },
   "file_extension": ".py",
   "mimetype": "text/x-python",
   "name": "python",
   "nbconvert_exporter": "python",
   "pygments_lexer": "ipython3",
   "version": "3.7.7"
  }
 },
 "nbformat": 4,
 "nbformat_minor": 4
}
