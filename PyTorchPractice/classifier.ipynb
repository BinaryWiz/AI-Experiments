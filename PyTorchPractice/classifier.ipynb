{
 "cells": [
  {
   "cell_type": "code",
   "execution_count": 9,
   "metadata": {},
   "outputs": [],
   "source": [
    "import torch\n",
    "import torch.nn as nn\n",
    "import torch.nn.functional as F\n",
    "import torch.optim as optim\n",
    "import torchvision\n",
    "import torchvision.transforms as transforms\n",
    "import matplotlib.pyplot as plt\n",
    "import numpy as np"
   ]
  },
  {
   "cell_type": "markdown",
   "metadata": {},
   "source": [
    "## Get Data"
   ]
  },
  {
   "cell_type": "code",
   "execution_count": 4,
   "metadata": {},
   "outputs": [
    {
     "name": "stdout",
     "output_type": "stream",
     "text": [
      "Downloading https://www.cs.toronto.edu/~kriz/cifar-10-python.tar.gz to ./data\\cifar-10-python.tar.gz\n"
     ]
    },
    {
     "data": {
      "application/vnd.jupyter.widget-view+json": {
       "model_id": "d7f05f181f3f4b5cbcfe89bbcb35b1d9",
       "version_major": 2,
       "version_minor": 0
      },
      "text/plain": [
       "HBox(children=(IntProgress(value=1, bar_style='info', max=1), HTML(value='')))"
      ]
     },
     "metadata": {},
     "output_type": "display_data"
    },
    {
     "name": "stdout",
     "output_type": "stream",
     "text": [
      "Extracting ./data\\cifar-10-python.tar.gz to ./data\n",
      "Files already downloaded and verified\n"
     ]
    }
   ],
   "source": [
    "transform = transforms.Compose(\n",
    "    [transforms.ToTensor(),\n",
    "     transforms.Normalize((0.5, 0.5, 0.5), (0.5, 0.5, 0.5))])\n",
    "\n",
    "trainset = torchvision.datasets.CIFAR10(root='./data', train=True,\n",
    "                                        download=True, transform=transform)\n",
    "trainloader = torch.utils.data.DataLoader(trainset, batch_size=4,\n",
    "                                          shuffle=True, num_workers=2)\n",
    "\n",
    "testset = torchvision.datasets.CIFAR10(root='./data', train=False,\n",
    "                                       download=True, transform=transform)\n",
    "testloader = torch.utils.data.DataLoader(testset, batch_size=4,\n",
    "                                         shuffle=False, num_workers=2)\n",
    "\n",
    "classes = ('plane', 'car', 'bird', 'cat',\n",
    "           'deer', 'dog', 'frog', 'horse', 'ship', 'truck')"
   ]
  },
  {
   "cell_type": "code",
   "execution_count": 5,
   "metadata": {},
   "outputs": [
    {
     "data": {
      "image/png": "[encoded data removed]",
      "text/plain": [
       "<Figure size 432x288 with 1 Axes>"
      ]
     },
     "metadata": {
      "needs_background": "light"
     },
     "output_type": "display_data"
    },
    {
     "name": "stdout",
     "output_type": "stream",
     "text": [
      " bird horse  deer plane\n"
     ]
    }
   ],
   "source": [
    "def imshow(img):\n",
    "    img = img / 2 + 0.5     # unnormalize\n",
    "    npimg = img.numpy()\n",
    "    plt.imshow(np.transpose(npimg, (1, 2, 0)))\n",
    "    plt.show()\n",
    "\n",
    "\n",
    "# get some random training images\n",
    "dataiter = iter(trainloader)\n",
    "images, labels = dataiter.next()\n",
    "\n",
    "# show images\n",
    "imshow(torchvision.utils.make_grid(images))\n",
    "# print labels\n",
    "print(' '.join('%5s' % classes[labels[j]] for j in range(4)))"
   ]
  },
  {
   "cell_type": "markdown",
   "metadata": {},
   "source": [
    "## Neural Network"
   ]
  },
  {
   "cell_type": "code",
   "execution_count": 8,
   "metadata": {},
   "outputs": [],
   "source": [
    "class Net(nn.Module):\n",
    "    def __init__(self):\n",
    "        super(Net, self).__init__()\n",
    "        self.conv1 = nn.Conv2d(3, 6, 5)\n",
    "        self.pool = nn.MaxPool2d(2, 2)\n",
    "        self.conv2 = nn.Conv2d(6, 16, 5)\n",
    "        self.fc1 = nn.Linear(16 * 5 * 5, 120)\n",
    "        self.fc2 = nn.Linear(120, 84)\n",
    "        self.fc3 = nn.Linear(84, 10)\n",
    "\n",
    "    def forward(self, x):\n",
    "        x = self.pool(F.relu(self.conv1(x)))\n",
    "        x = self.pool(F.relu(self.conv2(x)))\n",
    "        x = x.view(-1, 16 * 5 * 5)\n",
    "        x = F.relu(self.fc1(x))\n",
    "        x = F.relu(self.fc2(x))\n",
    "        x = self.fc3(x)\n",
    "        return x\n",
    "\n",
    "\n",
    "net = Net()\n"
   ]
  },
  {
   "cell_type": "code",
   "execution_count": 11,
   "metadata": {},
   "outputs": [],
   "source": [
    "# Using cross-entropy because we are making a classifier\n",
    "criterion = nn.CrossEntropyLoss()\n",
    "\n",
    "# Using Adam optimizer\n",
    "opt = optim.Adam(net.parameters())"
   ]
  },
  {
   "cell_type": "code",
   "execution_count": 16,
   "metadata": {},
   "outputs": [
    {
     "name": "stdout",
     "output_type": "stream",
     "text": [
      "Epoch: 1,  2000 example, loss: 1.860\n",
      "Epoch: 1,  4000 example, loss: 1.582\n",
      "Epoch: 1,  6000 example, loss: 1.510\n",
      "Epoch: 1,  8000 example, loss: 1.452\n",
      "Epoch: 1, 10000 example, loss: 1.412\n",
      "Epoch: 1, 12000 example, loss: 1.369\n",
      "Epoch: 2,  2000 example, loss: 1.307\n",
      "Epoch: 2,  4000 example, loss: 1.287\n",
      "Epoch: 2,  6000 example, loss: 1.294\n",
      "Epoch: 2,  8000 example, loss: 1.270\n",
      "Epoch: 2, 10000 example, loss: 1.248\n",
      "Epoch: 2, 12000 example, loss: 1.215\n",
      "Epoch: 3,  2000 example, loss: 1.150\n",
      "Epoch: 3,  4000 example, loss: 1.171\n",
      "Epoch: 3,  6000 example, loss: 1.168\n",
      "Epoch: 3,  8000 example, loss: 1.175\n",
      "Epoch: 3, 10000 example, loss: 1.178\n",
      "Epoch: 3, 12000 example, loss: 1.168\n",
      "Epoch: 4,  2000 example, loss: 1.094\n",
      "Epoch: 4,  4000 example, loss: 1.101\n",
      "Epoch: 4,  6000 example, loss: 1.112\n",
      "Epoch: 4,  8000 example, loss: 1.100\n",
      "Epoch: 4, 10000 example, loss: 1.091\n",
      "Epoch: 4, 12000 example, loss: 1.121\n",
      "Epoch: 5,  2000 example, loss: 1.030\n",
      "Epoch: 5,  4000 example, loss: 1.048\n",
      "Epoch: 5,  6000 example, loss: 1.040\n",
      "Epoch: 5,  8000 example, loss: 1.073\n",
      "Epoch: 5, 10000 example, loss: 1.048\n",
      "Epoch: 5, 12000 example, loss: 1.073\n",
      "Epoch: 6,  2000 example, loss: 0.978\n",
      "Epoch: 6,  4000 example, loss: 1.008\n",
      "Epoch: 6,  6000 example, loss: 1.018\n",
      "Epoch: 6,  8000 example, loss: 1.017\n",
      "Epoch: 6, 10000 example, loss: 1.050\n",
      "Epoch: 6, 12000 example, loss: 1.041\n",
      "Epoch: 7,  2000 example, loss: 0.961\n",
      "Epoch: 7,  4000 example, loss: 0.962\n",
      "Epoch: 7,  6000 example, loss: 0.999\n",
      "Epoch: 7,  8000 example, loss: 0.976\n",
      "Epoch: 7, 10000 example, loss: 0.997\n",
      "Epoch: 7, 12000 example, loss: 0.986\n",
      "Epoch: 8,  2000 example, loss: 0.908\n",
      "Epoch: 8,  4000 example, loss: 0.942\n",
      "Epoch: 8,  6000 example, loss: 0.946\n",
      "Epoch: 8,  8000 example, loss: 0.967\n",
      "Epoch: 8, 10000 example, loss: 0.976\n",
      "Epoch: 8, 12000 example, loss: 0.987\n",
      "Epoch: 9,  2000 example, loss: 0.888\n",
      "Epoch: 9,  4000 example, loss: 0.903\n",
      "Epoch: 9,  6000 example, loss: 0.930\n",
      "Epoch: 9,  8000 example, loss: 0.950\n",
      "Epoch: 9, 10000 example, loss: 0.972\n",
      "Epoch: 9, 12000 example, loss: 0.957\n",
      "Epoch: 10,  2000 example, loss: 0.885\n",
      "Epoch: 10,  4000 example, loss: 0.914\n",
      "Epoch: 10,  6000 example, loss: 0.875\n",
      "Epoch: 10,  8000 example, loss: 0.896\n",
      "Epoch: 10, 10000 example, loss: 0.925\n",
      "Epoch: 10, 12000 example, loss: 0.954\n",
      "Finished training\n"
     ]
    }
   ],
   "source": [
    "# 5 epochs\n",
    "for epoch in range(10):\n",
    "    # Keep track of loss for every 2000 mini-batches\n",
    "    running_loss = 0.0\n",
    "    # The trainloader already has batch size set to 4\n",
    "    # We iterate over these sets of 4\n",
    "    for i, data in enumerate(trainloader):\n",
    "        # Data is a list ([inputs, labels])\n",
    "        inputs, labels = data\n",
    "        \n",
    "        # Zero the parameter gradients\n",
    "        opt.zero_grad()\n",
    "        \n",
    "        # Forward propagation\n",
    "        forward = net(inputs)\n",
    "        \n",
    "        # Calculate loss\n",
    "        loss = criterion(forward, labels)\n",
    "        \n",
    "        # Backprop\n",
    "        loss.backward()\n",
    "        \n",
    "        # Apply the gradients\n",
    "        opt.step()\n",
    "        \n",
    "        # Add the loss to the loss of the 2000 mini-batches\n",
    "        running_loss += loss.item()\n",
    "        \n",
    "        # Print every 2000 mini-batches\n",
    "        if i % 2000 == 1999:\n",
    "            print('Epoch: %d, %5d example, loss: %.3f' %\n",
    "                  (epoch + 1, i + 1, running_loss / 2000))\n",
    "            running_loss = 0.0\n",
    "\n",
    "print('Finished training')"
   ]
  },
  {
   "cell_type": "code",
   "execution_count": 17,
   "metadata": {},
   "outputs": [],
   "source": [
    "# Save the weights\n",
    "PATH = './cifar_net.pt'\n",
    "torch.save(net.state_dict(), PATH)"
   ]
  },
  {
   "cell_type": "code",
   "execution_count": 18,
   "metadata": {},
   "outputs": [
    {
     "data": {
      "image/png": "[encoded data removed]",
      "text/plain": [
       "<Figure size 432x288 with 1 Axes>"
      ]
     },
     "metadata": {
      "needs_background": "light"
     },
     "output_type": "display_data"
    },
    {
     "name": "stdout",
     "output_type": "stream",
     "text": [
      "GroundTruth:    cat  ship  ship plane\n"
     ]
    }
   ],
   "source": [
    "# Display images from test set\n",
    "\n",
    "dataiter = iter(testloader)\n",
    "images, labels = dataiter.next()\n",
    "\n",
    "# print images\n",
    "imshow(torchvision.utils.make_grid(images))\n",
    "print('GroundTruth: ', ' '.join('%5s' % classes[labels[j]] for j in range(4)))"
   ]
  },
  {
   "cell_type": "code",
   "execution_count": 19,
   "metadata": {},
   "outputs": [
    {
     "name": "stdout",
     "output_type": "stream",
     "text": [
      "Predicted:   frog  ship  ship  ship\n"
     ]
    }
   ],
   "source": [
    "outputs = net(images)\n",
    "# torch.max(input, dim) returns the  max values along dimension dim \n",
    "# Output is [values, indices]\n",
    "_, predicted = torch.max(outputs, 1)\n",
    "print('Predicted: ', ' '.join('%5s' % classes[predicted[j]] for j in range(4)))"
   ]
  },
  {
   "cell_type": "code",
   "execution_count": 20,
   "metadata": {},
   "outputs": [
    {
     "name": "stdout",
     "output_type": "stream",
     "text": [
      "Accuracy of the network on the 10000 test images: 59 %\n"
     ]
    }
   ],
   "source": [
    "# Calculate the accuracy on the test set\n",
    "correct = 0\n",
    "total = 0\n",
    "\n",
    "# Don't calculate grad because we're not training\n",
    "with torch.no_grad():\n",
    "    for data in testloader:\n",
    "        images, labels = data\n",
    "        outputs = net(images)\n",
    "        _, predicted = torch.max(outputs.data, 1)\n",
    "        total += labels.size(0)\n",
    "        correct += (predicted == labels).sum().item()\n",
    "\n",
    "print('Accuracy of the network on the 10000 test images: %d %%' % (\n",
    "    100 * correct / total))"
   ]
  },
  {
   "cell_type": "code",
   "execution_count": null,
   "metadata": {},
   "outputs": [],
   "source": []
  }
 ],
 "metadata": {
  "kernelspec": {
   "display_name": "Python 3",
   "language": "python",
   "name": "python3"
  },
  "language_info": {
   "codemirror_mode": {
    "name": "ipython",
    "version": 3
   },
   "file_extension": ".py",
   "mimetype": "text/x-python",
   "name": "python",
   "nbconvert_exporter": "python",
   "pygments_lexer": "ipython3",
   "version": "3.7.4"
  }
 },
 "nbformat": 4,
 "nbformat_minor": 2
}
